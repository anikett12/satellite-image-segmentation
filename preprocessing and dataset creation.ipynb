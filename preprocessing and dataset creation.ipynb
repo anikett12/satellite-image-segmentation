{
 "cells": [
  {
   "cell_type": "code",
   "execution_count": null,
   "metadata": {
    "collapsed": true
   },
   "outputs": [],
   "source": [
    "#importing necessary libraries\n",
    "\n",
    "import numpy as np\n",
    "import imageio\n",
    "import os\n",
    "import cv2\n",
    "import tifffile as tiff\n",
    "import math\n",
    "import random"
   ]
  },
  {
   "cell_type": "code",
   "execution_count": null,
   "metadata": {
    "collapsed": true
   },
   "outputs": [],
   "source": [
    "#defining necessary constants\n",
    "\n",
    "patch_size = 320                    #size of patches the image is broken doen into\n",
    "datasize = 6000                     #total no, of patches to be created\n",
    "train_data = 5000                   #no. of patches to be used for training "
   ]
  },
  {
   "cell_type": "code",
   "execution_count": null,
   "metadata": {
    "collapsed": true
   },
   "outputs": [],
   "source": [
    "#function to resize the images such that there are an integral no. of patches in them\n",
    "\n",
    "def resize(x,patch_size=patch_size):\n",
    "    img_height = x.shape[0]\n",
    "    img_width = x.shape[1]\n",
    "    n_channels = x.shape[2]\n",
    "    \n",
    "    # make extended img so that it contains integer number of patches\n",
    "    npatches_vertical = math.ceil(img_height / patch_size)\n",
    "    npatches_horizontal = math.ceil(img_width / patch_size)\n",
    "    extended_height = patch_size * npatches_vertical\n",
    "    extended_width = patch_size * npatches_horizontal\n",
    "    ext_x = np.full((extended_height, extended_width, n_channels) ,255 , dtype=np.float32)\n",
    "    \n",
    "    # fill extended image with mirrors\n",
    "    ext_x[:img_height, :img_width, :] = x\n",
    "    for i in range(img_height, extended_height):\n",
    "        ext_x[i, :, :] = ext_x[2 * img_height - i - 1, :, :]\n",
    "    for j in range(img_width, extended_width):\n",
    "        ext_x[:, j, :] = ext_x[:, 2 * img_width - j - 1, :]\n",
    "\n",
    "    # now we assemble all patches in one array\n",
    "    return ext_x"
   ]
  },
  {
   "cell_type": "code",
   "execution_count": null,
   "metadata": {
    "collapsed": true
   },
   "outputs": [],
   "source": [
    "#function to obtain an (m x n) array (containing the respective class of the pixel) from rgb images of shape (m x n x 3)\n",
    "\n",
    "def get_classes_from_image(Y):\n",
    "  \n",
    "  colours={\n",
    "    0:[255,255,255],                                    #white  ---> no class\n",
    "    1:[0,0,0],                                          #black  ---> roads\n",
    "    2:[100,100,100],                                    #grey   ---> buildings\n",
    "    3:[0,0,150],                                        #dark blue  ---> water\n",
    "    4:[0,255,0],                                        #light green  ---> grass\n",
    "    5:[255,255,0],                                      #yellow   ---> rails\n",
    "    6:[0,125,0],                                        #dark green  ---> trees\n",
    "    7:[150,150,255],                                    #light blue  --->pools\n",
    "    8:[150,80,0]                                        #brown  --->bare soil\n",
    "    }\n",
    "  \n",
    "  temp=np.zeros((Y.shape[0],Y.shape[1]))\n",
    "  for j in range(Y.shape[0]):\n",
    "    for k in range(Y.shape[1]):\n",
    "      for l in range(9):\n",
    "        if colours[l]==list(Y[j,k]):\n",
    "          temp[j,k]=l\n",
    "          \n",
    "  return temp"
   ]
  },
  {
   "cell_type": "code",
   "execution_count": null,
   "metadata": {
    "collapsed": true
   },
   "outputs": [],
   "source": [
    "#function to rgb images given an array with the corresponding classes fro each pixel\n",
    "\n",
    "def get_image_from_classes(Y):\n",
    "  \n",
    "  colours={\n",
    "    0:[255,255,255],                                    #white  ---> no class\n",
    "    1:[0,0,0],                                          #black  ---> roads\n",
    "    2:[100,100,100],                                    #grey   ---> buildings\n",
    "    3:[0,0,150],                                        #dark blue  ---> water\n",
    "    4:[0,255,0],                                        #light green  ---> grass\n",
    "    5:[255,255,0],                                      #yellow   ---> rails\n",
    "    6:[0,125,0],                                        #dark green  ---> trees\n",
    "    7:[150,150,255],                                    #light blue  --->pools\n",
    "    8:[150,80,0]                                        #brown  --->bare soil\n",
    "    }\n",
    "  \n",
    "  temp=np.zeros((Y.shape[0],Y.shape[1],3))\n",
    "  for j in range(Y.shape[0]):\n",
    "    for k in range(Y.shape[1]):\n",
    "      temp[j,k]=colours[Y[j,k]]\n",
    "          \n",
    "  return temp"
   ]
  },
  {
   "cell_type": "code",
   "execution_count": null,
   "metadata": {
    "collapsed": true
   },
   "outputs": [],
   "source": [
    "#normalising the array values\n",
    "\n",
    "def normalize(img):\n",
    "    min = img.min()\n",
    "    max = img.max()\n",
    "    x = 2.0 * (img - min) / (max - min) - 1.0\n",
    "    return x"
   ]
  },
  {
   "cell_type": "code",
   "execution_count": null,
   "metadata": {
    "collapsed": true
   },
   "outputs": [],
   "source": [
    "#get pixelwise one hot encodings for each of the 9 classes from the rgb images \n",
    "\n",
    "def get_mask(img,Y):\n",
    "\n",
    "    colours={\n",
    "    0:[255,255,255],                                    #white  ---> no class\n",
    "    1:[0,0,0],                                          #black  ---> roads\n",
    "    2:[100,100,100],                                    #grey   ---> buildings\n",
    "    3:[0,0,150],                                        #dark blue  ---> water\n",
    "    4:[0,255,0],                                        #light green  ---> grass\n",
    "    5:[255,255,0],                                      #yellow   ---> rails\n",
    "    6:[0,125,0],                                        #dark green  ---> trees\n",
    "    7:[150,150,255],                                    #light blue  ---> pools\n",
    "    8:[150,80,0]                                        #brown  ---> bare soil\n",
    "    }\n",
    "\n",
    " \n",
    "    mask=np.zeros((img.shape[0],img.shape[1],9))\n",
    "    for j in range(mask.shape[0]):\n",
    "        for k in range(mask.shape[1]):\n",
    "            for l in range(9):\n",
    "              if colours[l]==list(Y[j,k]):\n",
    "                mask[j,k,l]=1\n",
    "\n",
    "    return mask"
   ]
  },
  {
   "cell_type": "code",
   "execution_count": null,
   "metadata": {
    "collapsed": true
   },
   "outputs": [],
   "source": [
    "#creating numpy arrays of the given sat and gt images \n",
    "\n",
    "def create_data():\n",
    "\n",
    "    path=\"./\"\n",
    "\n",
    "    i=1\n",
    "\n",
    "    X_train=[]\n",
    "    Y_train=[]\n",
    "\n",
    "    while True:\n",
    "        sat_path=path+'sat/'+str(i)+'.tif'\n",
    "        if os.path.exists(sat_path):\n",
    "            img=np.array(imageio.imread(sat_path,format=\"tiff\"))               #reading the satellite images \n",
    "            print(\"shape of image\",i,\":\",img.shape,end=\" \")\n",
    "            img = resize(img)\n",
    "            img = normalize(img)\n",
    "            gt_path = path+'gt/'+str(i)+'.tif'\n",
    "            mask = cv2.imread(gt_path)                                         #reading the ground truths\n",
    "            mask = cv2.cvtColor(mask, cv2.COLOR_BGR2RGB)               \n",
    "            mask = resize(mask)                                               \n",
    "            mask = get_mask(img,mask)\n",
    "            X_train.append(img)\n",
    "            Y_train.append(mask)\n",
    "\n",
    "        else:\n",
    "            print(\"dataset ban gya....\")\n",
    "            print(\"ab chill!!\")\n",
    "            break\n",
    "\n",
    "        i=i+1\n",
    "    \n",
    "    #saving the modified image data\n",
    "    \n",
    "    np.save(\"./rawdata_X_new.npy\",X_train)                                     \n",
    "    np.save(\"./rawdata_Y_new.npy\",Y_train)\n",
    "    data=np.load(\"./rawdata_Y_new.npy\")\n",
    "    data_x=np.load(\"./rawdata_X_new.npy\")\n",
    "    print(data[0].shape)\n",
    "    print(data_x[0].shape)\n",
    "    \n",
    "    return np.array(X_train),np.array(Y_train)\n"
   ]
  },
  {
   "cell_type": "code",
   "execution_count": null,
   "metadata": {
    "collapsed": true
   },
   "outputs": [],
   "source": [
    "#function to calculate the frequency of each class\n",
    "#used just a tool that might be helpful in determining the class weights used later (to determine the contribution of each class in the overall loss)\n",
    "\n",
    "\n",
    "\n",
    "def class_frequency():\n",
    "    a=[0,0,0,0,0,0,0,0,0]\n",
    "    data=np.load(\"./rawdata_Y_new.npy\")\n",
    "    for i in  range(len(data)):\n",
    "        temp= get_classes_from_image(data[i])\n",
    "        img_height = temp.shape[0]\n",
    "        img_width = temp.shape[1]\n",
    "        print(temp[0,0])\n",
    "        a[1] += np.sum(temp==1)\n",
    "        a[2] += np.sum(temp==2)\n",
    "        a[3] += np.sum(temp==3)\n",
    "        a[4] += np.sum(temp==4)\n",
    "        a[5] += np.sum(temp==5)\n",
    "        a[6] += np.sum(temp==6)\n",
    "        a[7] += np.sum(temp==7)\n",
    "        a[8] += np.sum(temp==8)\n",
    "    for i in range(10):\n",
    "      print(a[i])\n",
    "    return a"
   ]
  },
  {
   "cell_type": "code",
   "execution_count": null,
   "metadata": {
    "collapsed": true
   },
   "outputs": [],
   "source": [
    "#function to obtain the linear image patches using non-overlapping sliding window method\n",
    "\n",
    "def get_linear_patch(X,Y,patch_size=patch_size):\n",
    "    X_linear=[]\n",
    "    Y_linear=[]\n",
    "    patch_count=0\n",
    "    print(X.shape,Y.shape)\n",
    "\n",
    "    for i in range(X.shape[0]):\n",
    "        img_x=X[i]\n",
    "        img_y=Y[i]\n",
    "        \n",
    "        #determining no. of horizontal and vertical patches\n",
    "        \n",
    "        n_horizontal_patches=math.ceil(img_x.shape[0]/patch_size)\n",
    "        n_vertical_patches=math.ceil(img_x.shape[1]/patch_size)\n",
    "        print(\"no. of horizontal patches:\",n_horizontal_patches,\"    no. of vertical patches:\",n_vertical_patches)\n",
    "        print(img_x.shape,img_y.shape)\n",
    "        \n",
    "        for k in range(0,n_horizontal_patches):\n",
    "            for l in range(0,n_vertical_patches):\n",
    "              \n",
    "              temp_x=img_x[k*patch_size:(k+1)*patch_size,l*patch_size:(l+1)*patch_size,:]\n",
    "              temp_y=img_y[k*patch_size:(k+1)*patch_size,l*patch_size:(l+1)*patch_size,:]\n",
    "              print(\"loading entry \"+str(i)+\"......\")\n",
    "              print(k*patch_size,(k+1)*patch_size,l*patch_size,(l+1)*patch_size)\n",
    "              np.save(\"./Image_patch_new/img_patch\"+str(patch_count)+\".npy\",temp_x)\n",
    "              np.save(\"./mask_patch_new/mask_patch\"+str(patch_count)+\".npy\",temp_y)\n",
    "              patch_count=patch_count+1\n",
    "    print(patch_count)      "
   ]
  },
  {
   "cell_type": "code",
   "execution_count": null,
   "metadata": {
    "collapsed": true
   },
   "outputs": [],
   "source": [
    "def transform(patch_img, patch_mask):\n",
    "    # Apply some random transformations\n",
    "    random_transformation = np.random.randint(1,8)\n",
    "    if random_transformation == 1:  # reverse first dimension\n",
    "        patch_img = patch_img[::-1,:,:]\n",
    "        patch_mask = patch_mask[::-1,:,:]\n",
    "    elif random_transformation == 2:    # reverse second dimension\n",
    "        patch_img = patch_img[:,::-1,:]\n",
    "        patch_mask = patch_mask[:,::-1,:]\n",
    "    elif random_transformation == 3:    # transpose(interchange) first and second dimensions\n",
    "        patch_img = patch_img.transpose([1,0,2])\n",
    "        patch_mask = patch_mask.transpose([1,0,2])\n",
    "    elif random_transformation == 4:\n",
    "        patch_img = np.rot90(patch_img, 1)\n",
    "        patch_mask = np.rot90(patch_mask, 1)\n",
    "    elif random_transformation == 5:\n",
    "        patch_img = np.rot90(patch_img, 2)\n",
    "        patch_mask = np.rot90(patch_mask, 2)\n",
    "    elif random_transformation == 6:\n",
    "        patch_img = np.rot90(patch_img, 3)\n",
    "        patch_mask = np.rot90(patch_mask, 3)\n",
    "    else:\n",
    "        pass\n",
    "\n",
    "    return patch_img, patch_mask\n"
   ]
  },
  {
   "cell_type": "code",
   "execution_count": null,
   "metadata": {
    "collapsed": true
   },
   "outputs": [],
   "source": [
    "#generating random patches from the given dataset\n",
    "\n",
    "def get_rand_patch(img, mask, sz=patch_size):\n",
    "    \"\"\"\n",
    "    :param img: ndarray with shape (x_sz, y_sz, num_channels)\n",
    "    :param mask: binary ndarray with shape (x_sz, y_sz, num_classes)\n",
    "    :param sz: size of random patch\n",
    "    :return: patch with shape (sz, sz, num_channels)\n",
    "    \"\"\"\n",
    "    assert len(img.shape) == 3 and img.shape[0] > sz and img.shape[1] > sz and img.shape[0:2] == mask.shape[0:2]\n",
    "    xc = random.randint(0, img.shape[0] - sz)\n",
    "    yc = random.randint(0, img.shape[1] - sz)\n",
    "    patch_img = img[xc:(xc + sz), yc:(yc + sz)]\n",
    "    patch_mask = mask[xc:(xc + sz), yc:(yc + sz)]\n",
    "\n",
    "\n",
    "    return transform(patch_img,patch_mask)"
   ]
  },
  {
   "cell_type": "code",
   "execution_count": null,
   "metadata": {
    "collapsed": true
   },
   "outputs": [],
   "source": [
    "def get_patches(X_train, Y_train , n_patches, patch_size=patch_size):\n",
    "    X = []\n",
    "    Y = []\n",
    "    patch_count=0\n",
    "    while patch_count < n_patches:\n",
    "      \n",
    "        img_id = random.randrange(0,X_train.shape[0])\n",
    "        print(\"chosen image:\",img_id)\n",
    "        img = X_train[img_id]\n",
    "        mask = Y_train[img_id]\n",
    "        img_patch, mask_patch = get_rand_patch(img, mask, patch_size)\n",
    "        np.save(\"./Image_patch_new/img_patch\"+str(patch_count+232)+\".npy\",img_patch)\n",
    "        np.save(\"./mask_patch_new/mask_patch\"+str(patch_count+232)+\".npy\",mask_patch)\n",
    "        patch_count += 1\n",
    "    print(str(patch_count)+\" patches generated...........\")"
   ]
  }
 ],
 "metadata": {
  "kernelspec": {
   "display_name": "Python 3",
   "language": "python",
   "name": "python3"
  },
  "language_info": {
   "codemirror_mode": {
    "name": "ipython",
    "version": 3
   },
   "file_extension": ".py",
   "mimetype": "text/x-python",
   "name": "python",
   "nbconvert_exporter": "python",
   "pygments_lexer": "ipython3",
   "version": "3.6.3"
  }
 },
 "nbformat": 4,
 "nbformat_minor": 2
}
