{
 "cells": [
  {
   "cell_type": "code",
   "execution_count": 1,
   "metadata": {
    "collapsed": true
   },
   "outputs": [],
   "source": [
    "######################################## Prediction ###############################################"
   ]
  },
  {
   "cell_type": "code",
   "execution_count": null,
   "metadata": {
    "collapsed": true
   },
   "outputs": [],
   "source": [
    "#generating patches from predictions image\n",
    "\n",
    "\n",
    "def prediction_patch(X,patch_size=320):\n",
    "    \n",
    "    \n",
    "    patch_paths=[]\n",
    "    patch_count=0\n",
    "    print(X.shape)\n",
    "\n",
    "\n",
    "\n",
    "    n_vertical_patches=math.ceil(X.shape[0]/patch_size)\n",
    "    n_horizontal_patches=math.ceil(X.shape[1]/patch_size)\n",
    "    print(\"no. of horizontal patches:\",n_horizontal_patches,\"    no. of vertical patches:\",n_vertical_patches)\n",
    "    print(X.shape)\n",
    "\n",
    "    for k in range(0,n_vertical_patches):\n",
    "        for l in range(0,n_horizontal_patches):\n",
    "\n",
    "          temp_x=X[k*patch_size:(k+1)*patch_size,l*patch_size:(l+1)*patch_size,:]\n",
    "          \n",
    "          print(\"loading entry \"+str(patch_count)+\"......\")\n",
    "          #print(k*patch_size,(k+1)*patch_size,l*patch_size,(l+1)*patch_size)\n",
    "          \n",
    "          np.save(\"Image_patch_test/img_patch\"+str(patch_count)+\".npy\",temp_x)\n",
    "          \n",
    "          patch_paths.append(\"Image_patch_test/img_patch\"+str(patch_count)+\".npy\")\n",
    "          patch_count=patch_count+1\n",
    "              \n",
    "    return patch_count,patch_paths                                                              #returns the no. of patches generated and the corresponding patch paths"
   ]
  },
  {
   "cell_type": "code",
   "execution_count": null,
   "metadata": {
    "collapsed": true
   },
   "outputs": [],
   "source": [
    "############################### Prediction ############################################\n",
    "\n",
    "#returns the prediction mask for a given image (path)\n",
    "\n",
    "def get_prediction(image_path):\n",
    "  \n",
    "  #image_path is the path of the image over which prediction has to be generated\n",
    "  \n",
    "  if os.path.exists(image_path):\n",
    "      \n",
    "      #loading the image\n",
    "      img=np.array(imageio.imread(image_path,format=\"tiff\"))\n",
    "      shape=img.shape\n",
    "      print(img.shape,end=\" \")\n",
    "      \n",
    "      #preprocessing the image\n",
    "      img = normalize(img)\n",
    "      img=resize(img)\n",
    "      print(\"shape of image:\",img.shape)\n",
    "      img=np.array(img)\n",
    "      \n",
    "      n_patches,patch_paths=prediction_patch(img)\n",
    "      \n",
    "      count=0\n",
    "      patches=[]\n",
    "      predict_paths=[]\n",
    "      \n",
    "      for path in patch_paths:\n",
    "        patch=np.load(path)\n",
    "        patches.append(patch)\n",
    "        \n",
    "      patches=np.array(patches)  \n",
    "      predictions=new_model.predict(patches,batch_size=4)\n",
    "      \n",
    "      for prediction in predictions:\n",
    "        \n",
    "        prediction=np.argmax(prediction,axis=2)\n",
    "        image_class=get_image_from_classes(prediction)\n",
    "        \n",
    "        np.save(\"Prediction_patches/patch\"+str(count)+\".npy\",image_class)\n",
    "        predict_paths.append(\"Prediction_patches/patch\"+str(count)+\".npy\")\n",
    "        count=count+1\n",
    "\n",
    "        \n",
    "      image=restore_image_from_patches(predict_paths,shape)\n",
    "      return image\n",
    "  \n",
    "  return \"error\""
   ]
  },
  {
   "cell_type": "code",
   "execution_count": null,
   "metadata": {
    "collapsed": true
   },
   "outputs": [],
   "source": [
    "## function to generate rgb image from previosly generated patches\n",
    "\n",
    "def restore_image_from_patches(patch_paths,image_shape,patch_size=320):\n",
    "  \n",
    "  count=0\n",
    "  img_height,img_width,n_channels=image_shape\n",
    "  n_channels=3\n",
    "  \n",
    "  #calculating the extended height and width based on true shape\n",
    "  \n",
    "  n_vertical_patches=math.ceil(img_height/patch_size)\n",
    "  n_horizontal_patches=math.ceil(img_width/patch_size)\n",
    "  extended_height = patch_size * n_vertical_patches\n",
    "  extended_width = patch_size * n_horizontal_patches\n",
    "  ext_image = np.zeros(shape=(extended_height, extended_width, n_channels), dtype=np.float32)\n",
    "  \n",
    "  print(n_vertical_patches,n_horizontal_patches)\n",
    "  print(extended_height,extended_width)\n",
    "  \n",
    "  \n",
    "  #joining patches to form the actual image\n",
    "  \n",
    "  for k in range(0,n_vertical_patches):\n",
    "      for l in range(0,n_horizontal_patches):\n",
    "        print(count)\n",
    "        patch=np.load(patch_paths[count])\n",
    "        #print(patch.shape)\n",
    "        print(k*patch_size,(k+1)*patch_size,l*patch_size,(l+1)*patch_size)\n",
    "        print(\"loading entry \"+str(count)+\"......\")\n",
    "        ext_image[k*patch_size:(k+1)*patch_size,l*patch_size:(l+1)*patch_size,:]=patch[:,:,:]\n",
    "        count=count+1\n",
    "  \n",
    "  image=ext_image[:img_height,:img_width,:n_channels]\n",
    "  \n",
    "  return image"
   ]
  },
  {
   "cell_type": "code",
   "execution_count": null,
   "metadata": {
    "collapsed": true
   },
   "outputs": [],
   "source": [
    "!mkdir Image_patch_test\n",
    "!mkdir Prediction_patches"
   ]
  },
  {
   "cell_type": "code",
   "execution_count": null,
   "metadata": {
    "collapsed": true
   },
   "outputs": [],
   "source": [
    "path=\"./sat/4.tif\"                                                         #give path of the test image  for which prediction is to be generated\n",
    "\n",
    "im=get_prediction(path)\n",
    "\n",
    "print(im.shape)"
   ]
  },
  {
   "cell_type": "code",
   "execution_count": null,
   "metadata": {
    "collapsed": true
   },
   "outputs": [],
   "source": [
    "################################Calculating metric scores ######################################################3\n",
    "\n",
    "from mlxtend.evaluate import confusion_matrix \n",
    "from mlxtend.plotting import plot_confusion_matrix\n",
    "from sklearn.metrics  import cohen_kappa_score\n"
   ]
  },
  {
   "cell_type": "code",
   "execution_count": null,
   "metadata": {
    "collapsed": true
   },
   "outputs": [],
   "source": [
    "def slice(img):\n",
    "    mask=[]\n",
    "    for i in range(9):\n",
    "         mask.append(img[:,:,i])\n",
    "    return mask "
   ]
  },
  {
   "cell_type": "code",
   "execution_count": null,
   "metadata": {
    "collapsed": true
   },
   "outputs": [],
   "source": [
    "#function to calculate the kappa coefficient per class on a training  images and their corresponding predictions \n",
    "\n",
    "\n",
    "def get_output():\n",
    "    path='./' \n",
    "    i=1\n",
    "    scores=[]\n",
    "    while True:\n",
    "        sat_path=path+'sat/'+str(i)+'.tif'\n",
    "        if os.path.exists(sat_path):\n",
    "            K_score=[]\n",
    "            img=np.array(imageio.imread(sat_path,format=\"tiff\"))\n",
    "            print(img.shape,end=\" \")\n",
    "           \n",
    "            print(img.shape)\n",
    "            gt_path = path+'gt/'+str(i)+'.tif'\n",
    "            mask = cv2.imread(gt_path)\n",
    "            mask = cv2.cvtColor(mask, cv2.COLOR_BGR2RGB)\n",
    "           \n",
    "            mask = get_mask(img,mask)\n",
    "            mask = slice(mask)\n",
    "            pred_mask=get_prediction(sat_path)\n",
    "            pred_mask=get_mask(img,pred_mask)\n",
    "            pred_mask=slice(pred_mask)\n",
    "            for j in range(9):\n",
    "                 K_score.append(cohen_kappa_score(mask[j].argmax(axis=0),pred_mask[j].argmax(axis=0),labels=None))\n",
    "                 print(K_score[j])\n",
    "            scores.append(K_score)\n",
    "        else:\n",
    "          print(\"end of loop\")\n",
    "          break\n",
    "        i=i+1  \n",
    "    return K_score        "
   ]
  },
  {
   "cell_type": "code",
   "execution_count": null,
   "metadata": {
    "collapsed": true
   },
   "outputs": [],
   "source": [
    "### kappa coefficient calculated on training images\n",
    "### the kappa scores generated per class can be found in the output below for each of the 14 training images respectively\n",
    "### the scores are printed in a series of 9 values, after loading the patches for a particular images \n",
    "### the scores are for classes 0,1,2,3,4,5,6,7,8 as printes respectively\n",
    "\n",
    "K_score=get_output()"
   ]
  },
  {
   "cell_type": "code",
   "execution_count": null,
   "metadata": {
    "collapsed": true
   },
   "outputs": [],
   "source": [
    "#function to calculate the kappa coefficient per class on a training  images and their corresponding predictions \n",
    "\n",
    "def confusion_matrix1():\n",
    "    path=\"./\"\n",
    "\n",
    "    i=1\n",
    "\n",
    "    stack=[]\n",
    "\n",
    "    while True:\n",
    "        sat_path=path+'sat/'+str(i)+'.tif'\n",
    "        if os.path.exists(sat_path):\n",
    "            img=np.array(imageio.imread(sat_path,format=\"tiff\"))\n",
    "            print(img.shape)\n",
    "            gt_path = path+'gt/'+str(i)+'.tif'\n",
    "            mask = cv2.imread(gt_path)\n",
    "            #print(\"mask before getting classes\",mask.shape)\n",
    "            mask = cv2.cvtColor(mask, cv2.COLOR_BGR2RGB)\n",
    "            mask=get_classes_from_image(mask)\n",
    "            #print(\"mask after getting classes\",mask.shape)\n",
    "            #mask = resize(mask)\n",
    "            pred_img=get_prediction(sat_path)\n",
    "            #print(\"pred before getting classes\",pred_img.shape)\n",
    "            pred_img=get_classes_from_image(pred_img)\n",
    "            #print(\"pred after getting classes\",pred_img.shape)\n",
    "            mask=mask.flatten()\n",
    "            #print(\"mask after flatten\",mask.shape)\n",
    "            pred_img=pred_img.flatten()\n",
    "            #print(\"pred after flatten\",pred_img.shape)\n",
    "            \n",
    "            \n",
    "            y=confusion_matrix(mask, pred_img,binary=False)\n",
    "            print(y,y.shape)\n",
    "            stack.append(y)\n",
    "        else: \n",
    "          break     \n",
    "        i=i+1    \n",
    "    return stack      "
   ]
  },
  {
   "cell_type": "code",
   "execution_count": null,
   "metadata": {
    "collapsed": true
   },
   "outputs": [],
   "source": [
    "### the confusion matrix for each training image is printed after loading the data for each image\n",
    "### the horizontal rows denote the actual classes while the columns show the predictions for each class(classes can be inferred from the corresponding indices i.e. index 0 represents class 0)\n",
    "cm=confusion_matrix1()"
   ]
  }
 ],
 "metadata": {
  "kernelspec": {
   "display_name": "Python 3",
   "language": "python",
   "name": "python3"
  },
  "language_info": {
   "codemirror_mode": {
    "name": "ipython",
    "version": 3
   },
   "file_extension": ".py",
   "mimetype": "text/x-python",
   "name": "python",
   "nbconvert_exporter": "python",
   "pygments_lexer": "ipython3",
   "version": "3.6.3"
  }
 },
 "nbformat": 4,
 "nbformat_minor": 2
}
